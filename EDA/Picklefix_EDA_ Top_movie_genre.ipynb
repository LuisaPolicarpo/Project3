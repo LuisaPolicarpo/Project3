{
  "nbformat": 4,
  "nbformat_minor": 0,
  "metadata": {
    "colab": {
      "provenance": [],
      "collapsed_sections": [],
      "mount_file_id": "1tLgep_MZ8_xbJ2rDyThcea_zkh59yaTo",
      "authorship_tag": "ABX9TyOvw3OXSPpVWa/QJLLTFKmE",
      "include_colab_link": true
    },
    "kernelspec": {
      "name": "python3",
      "display_name": "Python 3"
    },
    "language_info": {
      "name": "python"
    }
  },
  "cells": [
    {
      "cell_type": "markdown",
      "metadata": {
        "id": "view-in-github",
        "colab_type": "text"
      },
      "source": [
        "<a href=\"https://colab.research.google.com/github/LuisaPolicarpo/Project3/blob/main/Picklefix_Marta.ipynb\" target=\"_parent\"><img src=\"https://colab.research.google.com/assets/colab-badge.svg\" alt=\"Open In Colab\"/></a>"
      ]
    },
    {
      "cell_type": "code",
      "execution_count": 10,
      "metadata": {
        "id": "04xhMSp3u4tY"
      },
      "outputs": [],
      "source": [
        "import pandas as pd\n",
        "import pickle"
      ]
    },
    {
      "cell_type": "code",
      "source": [
        "from google.colab import drive\n",
        "drive.mount('/content/drive')"
      ],
      "metadata": {
        "colab": {
          "base_uri": "https://localhost:8080/"
        },
        "id": "1B6YmfPVLX-Y",
        "outputId": "4414aa8a-fe96-47b4-f08f-76482d517149"
      },
      "execution_count": 14,
      "outputs": [
        {
          "output_type": "stream",
          "name": "stdout",
          "text": [
            "Drive already mounted at /content/drive; to attempt to forcibly remount, call drive.mount(\"/content/drive\", force_remount=True).\n"
          ]
        }
      ]
    },
    {
      "cell_type": "code",
      "source": [
        "title_basics01 = pd.read_csv('https://datasets.imdbws.com/title.basics.tsv.gz', compression = 'gzip', sep = '\\t')\n",
        "title_basics01.to_pickle(\"title_basics_p.pkl\")\n",
        "title_basics = pd.read_pickle(\"title_basics_p.pickle\")"
      ],
      "metadata": {
        "colab": {
          "base_uri": "https://localhost:8080/"
        },
        "id": "vuhQ91bOu7JL",
        "outputId": "4d5f4a88-c6f7-4442-9a57-a35e2dcdae7b"
      },
      "execution_count": 13,
      "outputs": [
        {
          "output_type": "stream",
          "name": "stderr",
          "text": [
            "/usr/local/lib/python3.7/dist-packages/IPython/core/interactiveshell.py:3326: DtypeWarning: Columns (4) have mixed types.Specify dtype option on import or set low_memory=False.\n",
            "  exec(code_obj, self.user_global_ns, self.user_ns)\n"
          ]
        }
      ]
    },
    {
      "cell_type": "code",
      "source": [
        "title_ratings01 = pd.read_csv('https://datasets.imdbws.com/title.ratings.tsv.gz', compression = 'gzip', sep = '\\t')\n",
        "title_ratings01.to_pickle(\"title_ratings_p.pickle\")"
      ],
      "metadata": {
        "id": "t8A9q8-Ozlh1"
      },
      "execution_count": 3,
      "outputs": []
    },
    {
      "cell_type": "code",
      "source": [
        "title_akas01 = pd.read_csv('https://datasets.imdbws.com/title.akas.tsv.gz', compression = 'gzip', sep = '\\t')\n",
        "title_akas01.to_pickle(\"title_akas_p.pickle\")"
      ],
      "metadata": {
        "colab": {
          "base_uri": "https://localhost:8080/"
        },
        "id": "hinFacSCzudb",
        "outputId": "bee52671-b7cd-4ffa-ff73-a0f8c7dbcbba"
      },
      "execution_count": 5,
      "outputs": [
        {
          "output_type": "stream",
          "name": "stderr",
          "text": [
            "/usr/local/lib/python3.7/dist-packages/IPython/core/interactiveshell.py:3326: DtypeWarning: Columns (7) have mixed types.Specify dtype option on import or set low_memory=False.\n",
            "  exec(code_obj, self.user_global_ns, self.user_ns)\n"
          ]
        }
      ]
    },
    {
      "cell_type": "code",
      "source": [
        "title_crew01 = pd.read_csv('https://datasets.imdbws.com/title.crew.tsv.gz', compression = 'gzip', sep = '\\t')\n",
        "title_crew01.to_pickle(\"title_crew_p.pickle\")"
      ],
      "metadata": {
        "id": "qEpBhatCGg99"
      },
      "execution_count": 7,
      "outputs": []
    }
  ]
}